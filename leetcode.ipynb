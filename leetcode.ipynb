{
 "cells": [
  {
   "cell_type": "code",
   "execution_count": null,
   "id": "106542f6-34bc-4f22-a791-f6f51cd73fb8",
   "metadata": {},
   "outputs": [],
   "source": [
    "import "
   ]
  },
  {
   "cell_type": "code",
   "execution_count": 41,
   "id": "56bd439e-b1a2-4013-87ae-ce7fb474bef4",
   "metadata": {},
   "outputs": [],
   "source": [
    "class Solver():\n",
    "    def __init__(self):\n",
    "        self.nums = []\n",
    "        self.target = 0\n",
    "    def getInput(self):\n",
    "        self.nums = list(map(int, input().split(',')))\n",
    "        self.target = int(input())\n",
    "        #print(self.nums,self.target)\n",
    "    def solve(self):\n",
    "        self.getInput()\n",
    "        solution = Solution()\n",
    "        print(solution.twoSum(self.nums,self.target))"
   ]
  },
  {
   "cell_type": "code",
   "execution_count": 49,
   "id": "b7c6d4a9-49d4-4740-bd8c-70aae436ecc7",
   "metadata": {},
   "outputs": [],
   "source": [
    "class Solution:\n",
    "    def twoSum(self,nums,target):\n",
    "        for i in range(len(nums)):\n",
    "            for j in range(i+1,len(nums)):\n",
    "                if nums[i]+nums[j]==target:\n",
    "                    return [i,j]\n",
    "    \n",
    "    def isPalindrome(self,x):\n",
    "        if str(x)==str(x)[::-1]:\n",
    "            return True\n",
    "        else:\n",
    "            return False\n",
    "         \n",
    "        "
   ]
  },
  {
   "cell_type": "code",
   "execution_count": 46,
   "id": "2b532c68-52d5-4eb6-acef-837f24f03b05",
   "metadata": {},
   "outputs": [],
   "source": []
  },
  {
   "cell_type": "code",
   "execution_count": 55,
   "id": "0b487443-994c-4522-9b35-313364f708de",
   "metadata": {},
   "outputs": [
    {
     "data": {
      "text/plain": [
       "True"
      ]
     },
     "execution_count": 55,
     "metadata": {},
     "output_type": "execute_result"
    }
   ],
   "source": [
    "Solution.isPalindrome(1,x=121)"
   ]
  },
  {
   "cell_type": "code",
   "execution_count": 56,
   "id": "5d35fe6b-5397-4ec8-a699-6eb707e790ec",
   "metadata": {},
   "outputs": [
    {
     "data": {
      "text/plain": [
       "False"
      ]
     },
     "execution_count": 56,
     "metadata": {},
     "output_type": "execute_result"
    }
   ],
   "source": [
    "Solution.isPalindrome(1,x=-121)"
   ]
  },
  {
   "cell_type": "markdown",
   "id": "6eee68d8-167d-44b8-b46f-4153e6594f93",
   "metadata": {},
   "source": [
    "For example, 2 is written as II in Roman numeral, just two ones added together. 12 is written as XII, which is simply X + II. \n",
    "The number 27 is written as XXVII, which is XX + V + II.\n",
    "Roman numerals are usually written largest to smallest from left to right. However, the numeral for four is not IIII. \n",
    "Instead, the number four is written as IV. Because the one is before the five we subtract it making four. \n",
    "The same principle applies to the number nine, which is written as IX. There are six instances where subtraction is used:\n",
    "I can be placed before V (5) and X (10) to make 4 and 9. \n",
    "X can be placed before L (50) and C (100) to make 40 and 90. \n",
    "C can be placed before D (500) and M (1000) to make 400 and 900.\n",
    "Given a roman numeral, convert it to an integer."
   ]
  },
  {
   "cell_type": "code",
   "execution_count": 15,
   "id": "1d92db75-daf6-4644-8a51-ce05a27098ee",
   "metadata": {},
   "outputs": [],
   "source": [
    "def romanToInt(self, s):\n",
    "    rom_d = {\n",
    "        'I': 1,\n",
    "        'V': 5,\n",
    "        'X': 10,\n",
    "        'L': 50,\n",
    "        'C': 100,\n",
    "        'D': 500,\n",
    "        'M': 1000}\n",
    "    rom_double_d = {\n",
    "        'IV': 4, \n",
    "        'IX': 9,\n",
    "        'XL': 40,\n",
    "        'XC': 90,\n",
    "        'CD': 400,\n",
    "        'CM': 900}\n",
    "    for key in rom_double_d:\n",
    "        s=s.replace(key,','+str(rom_double_d[key]))\n",
    "    for key in rom_d:\n",
    "        s=s.replace(key,','+str(rom_d[key]))\n",
    "    print(s)\n",
    "    return sum([int(x) for x in s[1:].split(',')])\n"
   ]
  },
  {
   "cell_type": "code",
   "execution_count": 16,
   "id": "cf5c1962-971e-49fc-8641-50a51cce3f52",
   "metadata": {},
   "outputs": [
    {
     "name": "stdout",
     "output_type": "stream",
     "text": [
      ",1,1,1\n"
     ]
    },
    {
     "data": {
      "text/plain": [
       "3"
      ]
     },
     "execution_count": 16,
     "metadata": {},
     "output_type": "execute_result"
    }
   ],
   "source": [
    "romanToInt('','III')"
   ]
  },
  {
   "cell_type": "code",
   "execution_count": 17,
   "id": "06a9c245-112d-4f35-8b72-ff1acb131388",
   "metadata": {},
   "outputs": [
    {
     "name": "stdout",
     "output_type": "stream",
     "text": [
      ",1000,900,90,4\n"
     ]
    },
    {
     "data": {
      "text/plain": [
       "1994"
      ]
     },
     "execution_count": 17,
     "metadata": {},
     "output_type": "execute_result"
    }
   ],
   "source": [
    "romanToInt('', \"MCMXCIV\")"
   ]
  },
  {
   "cell_type": "markdown",
   "id": "4c87d03c-0767-4b13-8fbc-f0ac83950c32",
   "metadata": {},
   "source": [
    "result:\n",
    "78 ms Beats 7.14% of users with Python3 \n",
    "****это я худший? то есть большинство решили быстрее?"
   ]
  },
  {
   "cell_type": "markdown",
   "id": "2131da4a-405a-4fa3-a8c9-8c5a11a17a5f",
   "metadata": {},
   "source": [
    "Write a function to find the longest common prefix string amongst an array of strings.\n",
    "If there is no common prefix, return an empty string \"\".\n",
    "\n",
    "Example 1:\n",
    "\n",
    "Input: strs = [\"flower\",\"flow\",\"flight\"]\n",
    "Output: \"fl\"\n",
    "Example 2:\n",
    "\n",
    "Input: strs = [\"dog\",\"racecar\",\"car\"]\n",
    "Output: \"\"\n",
    "Explanation: There is no common prefix among the input strings."
   ]
  },
  {
   "cell_type": "code",
   "execution_count": 28,
   "id": "b971a3a4-3701-43e1-9b46-a3cb0db0d1d9",
   "metadata": {},
   "outputs": [],
   "source": [
    "\n",
    "   "
   ]
  },
  {
   "cell_type": "code",
   "execution_count": 183,
   "id": "ae38f401-cef8-49b9-b512-13a85f655e23",
   "metadata": {},
   "outputs": [
    {
     "data": {
      "text/plain": [
       "[('fl', 2), ('fl', 2), ('fl', 2), ('f', 1), ('f', 1), ('f', 1)]"
      ]
     },
     "execution_count": 183,
     "metadata": {},
     "output_type": "execute_result"
    }
   ],
   "source": [
    "sorted([('f', 1), ('f', 1), ('f', 1), ('fl', 2), ('fl', 2), ('fl', 2)], key=lambda t: (-t[1])) \n",
    "#вспомнил как работает, или можно reversed"
   ]
  },
  {
   "cell_type": "code",
   "execution_count": 20,
   "id": "29349ed4-2c6f-4edc-8b0b-778e7b98380b",
   "metadata": {},
   "outputs": [
    {
     "data": {
      "text/plain": [
       "'fl'"
      ]
     },
     "execution_count": 20,
     "metadata": {},
     "output_type": "execute_result"
    }
   ],
   "source": [
    "strs = [\"flower\",\"flow\",\"flight\"]\n",
    "longestCommonPrefix('',strs) #ковычки передаются вместо self, чтобы при сабмите не удалять self из функции\n"
   ]
  },
  {
   "cell_type": "code",
   "execution_count": 185,
   "id": "f30d55f6-e70a-490f-a5fe-d474547ce877",
   "metadata": {},
   "outputs": [
    {
     "data": {
      "text/plain": [
       "''"
      ]
     },
     "execution_count": 185,
     "metadata": {},
     "output_type": "execute_result"
    }
   ],
   "source": [
    "strs = [\"dog\",\"racecar\",\"car\"]\n",
    "longestCommonPrefix(1,strs)"
   ]
  },
  {
   "cell_type": "code",
   "execution_count": 27,
   "id": "1dd60dd1-d37c-4894-bb8f-b5a82d7bbae7",
   "metadata": {},
   "outputs": [
    {
     "data": {
      "text/plain": [
       "'a'"
      ]
     },
     "execution_count": 27,
     "metadata": {},
     "output_type": "execute_result"
    }
   ],
   "source": [
    "strs = ['a']\n",
    "longestCommonPrefix('',strs)"
   ]
  },
  {
   "cell_type": "code",
   "execution_count": 187,
   "id": "d181f211-1de8-43e8-a436-a861cfb50496",
   "metadata": {},
   "outputs": [
    {
     "data": {
      "text/plain": [
       "'a'"
      ]
     },
     "execution_count": 187,
     "metadata": {},
     "output_type": "execute_result"
    }
   ],
   "source": [
    "strs = [\"ab\", \"a\"]\n",
    "longestCommonPrefix('',strs)"
   ]
  },
  {
   "cell_type": "code",
   "execution_count": 29,
   "id": "2f5a1e97-1b21-420c-b6dc-2dffe89efd2e",
   "metadata": {},
   "outputs": [
    {
     "data": {
      "text/plain": [
       "'flowe'"
      ]
     },
     "execution_count": 29,
     "metadata": {},
     "output_type": "execute_result"
    }
   ],
   "source": [
    "strs = [\"flower\",\"flower\",\"flower\",\"flower\"]\n",
    "longestCommonPrefix('',strs)"
   ]
  },
  {
   "cell_type": "markdown",
   "id": "c1724305-db94-4969-a3d6-ccfc237374a3",
   "metadata": {},
   "source": [
    "790 ms Beats 5.26% of users with Python3\\\n",
    "***в целом я не понял откуда взялись дополнительные условия и пришлось править код по ходу сабмитов"
   ]
  },
  {
   "cell_type": "code",
   "execution_count": null,
   "id": "995be8fc-b535-49e1-90fe-294c644a6982",
   "metadata": {},
   "outputs": [],
   "source": []
  },
  {
   "cell_type": "markdown",
   "id": "5b7f90f9-0950-49fe-8ff2-4499bb55dc52",
   "metadata": {},
   "source": [
    "Given a string s containing just the characters '(', ')', '{', '}', '[' and ']', determine if the input string is valid.\n",
    "\n",
    "An input string is valid if:\n",
    "\n",
    "Open brackets must be closed by the same type of brackets.\n",
    "Open brackets must be closed in the correct order.\n",
    "Every close bracket has a corresponding open bracket of the same type.\n",
    " \n",
    "\n",
    "Example 1:\n",
    "\n",
    "Input: s = \"()\"\n",
    "Output: true\n",
    "Example 2:\n",
    "\n",
    "Input: s = \"()[]{}\"\n",
    "Output: true\n",
    "Example 3:\n",
    "\n",
    "Input: s = \"(]\"\n",
    "Output: false"
   ]
  },
  {
   "cell_type": "code",
   "execution_count": 245,
   "id": "9a6e1d16-b624-4e34-97d1-8d658df784ad",
   "metadata": {},
   "outputs": [],
   "source": [
    "def isValid(self, s):\n",
    "    \n",
    "        clear_s = ''.join([x for x in s if x in \"()[]{}\"]) #очистил\n",
    "        open_s = '([{'\n",
    "        close_d = {')':'(',']':'[','}':'{'}\n",
    "        stack = []\n",
    "        #print(clear_s)\n",
    "        for c in clear_s:\n",
    "            #print()\n",
    "            #print(c)\n",
    "            if c in open_s:\n",
    "                stack.append(c)\n",
    "                #print('append',stack)\n",
    "            else: #закрывает\n",
    "                if stack == [] or stack[-1]!=close_d[c]:\n",
    "                    #print('error',stack)\n",
    "                    return False\n",
    "                else:\n",
    "                    #print('pop',stack)\n",
    "                    stack.pop(-1)\n",
    "        if stack==[]:            \n",
    "            return True\n",
    "        else:\n",
    "            return False\n",
    "                \n",
    "        "
   ]
  },
  {
   "cell_type": "markdown",
   "id": "78f2c749-71aa-4d7f-ba3e-e0f055aae37a",
   "metadata": {},
   "source": [
    "38\n",
    "ms\n",
    "Beats\n",
    "49.44%\n",
    "of users with Python3"
   ]
  },
  {
   "cell_type": "code",
   "execution_count": null,
   "id": "ac89c314-7ee4-4d64-a967-6b0a1adc9fcf",
   "metadata": {},
   "outputs": [],
   "source": []
  },
  {
   "cell_type": "code",
   "execution_count": 30,
   "id": "87bacda4-3571-4280-aeae-9ea157bf6278",
   "metadata": {},
   "outputs": [],
   "source": [
    "# Definition for singly-linked list.\n",
    "class ListNode:\n",
    "     def __init__(self, val =0, next=None):\n",
    "         self.val = val\n",
    "         self.next = next\n",
    "         \n",
    "     def __str__(self):\n",
    "        out_l = []\n",
    "        node = self\n",
    "        while node!=None: #случайно получилось с первого раз развернуть\n",
    "            if node.next==None:\n",
    "                next_s = '> None'\n",
    "            else:\n",
    "                next_s = '>'\n",
    "            out_l.append(str(node.val))\n",
    "            out_l.append(next_s)\n",
    "            node = node.next\n",
    "        return ' '.join(out_l)\n",
    "\n",
    "\n",
    "\n",
    "\n",
    "def mergeTwoLists(self, list1, list2):\n",
    " \n",
    "     def node_to_list(node):\n",
    "        out_l = []           \n",
    "        while node!=None: #случайно получилось с первого раз развернуть\n",
    "            out_l.append(node.val)\n",
    "            node = node.next\n",
    "        return out_l\n",
    "         \n",
    "     def list_to_node(in_list): #здесь сплошная головная боль, я так и не смог у себя уместить эту абстракцию.\n",
    "         \n",
    "         if in_list == []:#если пустой список ничего то овтет None - это ясно ставноится после сабмитов\n",
    "             return None\n",
    "         last_digit = in_list[-1]\n",
    "         prev_node = ListNode(val = last_digit)\n",
    "         if len(in_list)==1: #cписок из одного элемента\n",
    "             return prev_node\n",
    "         new_node = ListNode()\n",
    "         for i in range(len(in_list)-2,-1,-1): #пришлось идти с конца в начало, причем начинать с пердпоследнего значения                \n",
    "             e= in_list[i]\n",
    "             new_node=ListNode(val = e)\n",
    "             new_node.next = prev_node                \n",
    "             prev_node = new_node\n",
    "    \n",
    "         return new_node\n",
    "    \n",
    "     out_list =list(sorted(node_to_list(list1)+node_to_list(list2)))\n",
    "     return list_to_node(out_list)"
   ]
  },
  {
   "cell_type": "code",
   "execution_count": 33,
   "id": "3ea80b53-505e-475a-93ca-d50f43fc56ee",
   "metadata": {},
   "outputs": [
    {
     "name": "stdout",
     "output_type": "stream",
     "text": [
      "1 > 2 > 3 > None\n",
      "0 > 2 > 4 > 6 > None\n",
      "0 > 1 > 2 > 2 > 3 > 4 > 6 > None\n"
     ]
    }
   ],
   "source": [
    "l1 = ListNode(1,ListNode(2,ListNode(3)))\n",
    "print(l1)\n",
    "l2 = ListNode(0,ListNode(2,ListNode(4,ListNode(6))))\n",
    "print(l2)\n",
    "print(mergeTwoLists(0,l1,l2))"
   ]
  },
  {
   "cell_type": "code",
   "execution_count": null,
   "id": "9759b7e9-0013-4940-999a-5397948f12a6",
   "metadata": {},
   "outputs": [],
   "source": []
  },
  {
   "cell_type": "raw",
   "id": "8ed33a56-f098-4505-be4f-aaf3a1050600",
   "metadata": {},
   "source": [
    "41ms\n",
    "Beats 49.23%\n",
    "of users with Python3"
   ]
  },
  {
   "cell_type": "code",
   "execution_count": null,
   "id": "cd24e89d-dc13-4045-82d2-d8b46915cae6",
   "metadata": {},
   "outputs": [],
   "source": []
  },
  {
   "cell_type": "code",
   "execution_count": 293,
   "id": "7a4b13fc-9117-4d51-a52a-54b19ecebf9d",
   "metadata": {},
   "outputs": [],
   "source": [
    "def removeDuplicates(self, nums):\n",
    "    for i in range(len(nums)-1,0,-1): #это я знаю, что если выкидывать что-то из списка по ходу, то идти надо от конца\n",
    "        if nums[i]==nums[i-1]:\n",
    "            nums.pop(i)\n",
    "    return len(nums), nums #из кода при сабмите пришлось убрать сам список, я так и не понял как они контролируют что я очищаю список по месту, а не создаю копию. \n",
    "    #так то я знаю как убрать дубликаты в одно движение через set"
   ]
  },
  {
   "cell_type": "code",
   "execution_count": 294,
   "id": "63ce032f-882e-452b-954e-cb4c9667cd98",
   "metadata": {},
   "outputs": [
    {
     "data": {
      "text/plain": [
       "(2, [1, 2])"
      ]
     },
     "execution_count": 294,
     "metadata": {},
     "output_type": "execute_result"
    }
   ],
   "source": [
    "removeDuplicates(0,[1,1,2])"
   ]
  },
  {
   "cell_type": "code",
   "execution_count": 295,
   "id": "de858fde-d59c-466a-92ca-25af575959b0",
   "metadata": {},
   "outputs": [
    {
     "data": {
      "text/plain": [
       "(5, [0, 1, 2, 3, 4])"
      ]
     },
     "execution_count": 295,
     "metadata": {},
     "output_type": "execute_result"
    }
   ],
   "source": [
    "removeDuplicates(0,[0,0,1,1,1,2,2,3,3,4])"
   ]
  },
  {
   "cell_type": "raw",
   "id": "b3b46556-8feb-432a-823b-4244f6973757",
   "metadata": {},
   "source": [
    "69 ms\n",
    "Beats 91.19%\n",
    "of users with Python3"
   ]
  },
  {
   "cell_type": "code",
   "execution_count": null,
   "id": "63af9512-e293-421e-a445-46217a3df631",
   "metadata": {},
   "outputs": [],
   "source": []
  },
  {
   "cell_type": "code",
   "execution_count": 58,
   "id": "a8b47e77-79b7-4f6f-bd82-b20df9a67d13",
   "metadata": {},
   "outputs": [],
   "source": [
    "#ДЗ переписать не использую перегон в List и обрытно, для этого нужно научится вставлять ноду по ходу перебора \n",
    "#откладываем \n",
    "#сделать репозиторий публичным\n",
    "#скинуть ссылку"
   ]
  },
  {
   "cell_type": "markdown",
   "id": "f3735d83-6f39-4c32-9d58-d14565bb0d35",
   "metadata": {},
   "source": [
    "Каждый раз когда я делаю изменения в нотубуке то\n",
    "1. git add\n",
    "2. git status\n",
    "3. git commit -m \"comment add ...dit ....\"\n",
    "4. git push (--force если расхождения)\n",
    "5. \n"
   ]
  },
  {
   "cell_type": "markdown",
   "id": "75f9a200-32b6-41f2-8c84-2f0ce52ce668",
   "metadata": {},
   "source": [
    "ДЗ: смотрю предыдущий список - решаю + новый список\n",
    "ДЗ: предыдущий список:\n",
    "\n",
    "- ~~https://leetcode.com/problems/remove-duplicates-from-sorted-array~~\n",
    "- ~~https://leetcode.com/problems/rotate-array~~\n",
    "- ~~https://leetcode.com/problems/roman-to-integer~~"
   ]
  },
  {
   "cell_type": "code",
   "execution_count": 91,
   "id": "2fd681de-f861-4f48-9ccb-43bf72c84ee4",
   "metadata": {},
   "outputs": [],
   "source": [
    "###НА ПРОВЕРКУ\n",
    "def rotate(self, nums, k): #Решение в лоб\n",
    "    \"\"\"\n",
    "    Do not return anything, modify nums in-place instead.\n",
    "    \"\"\"\n",
    "    if k < len(nums):\n",
    "        n=k\n",
    "    else:\n",
    "        n=k%len(nums) #чтобы зря не тратить время\n",
    "        \n",
    "    for i in range(n):\n",
    "        nums.insert(0,nums[-1]) #тут я тож до конца не верен inplace это или нет. можно ли добавлять новые элементы в исходный лист\n",
    "        nums.pop(-1)\n",
    "        \n",
    "    print(nums)"
   ]
  },
  {
   "cell_type": "code",
   "execution_count": 92,
   "id": "6fff4cf1-b5fe-46bc-a96a-f42db73a7a08",
   "metadata": {},
   "outputs": [
    {
     "name": "stdout",
     "output_type": "stream",
     "text": [
      "[1, 2, 3, 4, 5, 6, 7]\n"
     ]
    }
   ],
   "source": [
    "rotate(0,nums = [1,2,3,4,5,6,7], k = 7) #если прокрутить количество длина списка то попадем туда же"
   ]
  },
  {
   "cell_type": "code",
   "execution_count": 93,
   "id": "8c9f0f86-6135-4174-a1e1-c63a16c57546",
   "metadata": {},
   "outputs": [
    {
     "name": "stdout",
     "output_type": "stream",
     "text": [
      "[7, 1, 2, 3, 4, 5, 6]\n"
     ]
    }
   ],
   "source": [
    "rotate(0,nums = [1,2,3,4,5,6,7], k = 1)"
   ]
  },
  {
   "cell_type": "markdown",
   "id": "6a3f741d-da34-4c0b-a401-4ca52de6acb9",
   "metadata": {},
   "source": [
    "1520 ms \n",
    "Beats 12.02%\n",
    "of users with Python3\n",
    "***cудя по результатам эту задачу нужно было решать по другому\n",
    "и решил ниже"
   ]
  },
  {
   "cell_type": "code",
   "execution_count": 104,
   "id": "2a240a27-8b52-467e-9a08-c9b744239ae2",
   "metadata": {},
   "outputs": [],
   "source": [
    "### НА ПРОВЕРКУ\n",
    "def rotate(self, nums, k):\n",
    "\n",
    "    \"\"\"\n",
    "    Do not return anything, modify nums in-place instead.\n",
    "    \"\"\"\n",
    "\n",
    "    nums[:]=nums[::-1] #разворачиваем\n",
    "    #так можно или это уже не инплейс? работает только так nums[:]= иначе не проходит сабмиты, nums остается в первоначальном виде\n",
    "    orig_len = len(nums)\n",
    "    for i in range(k):\n",
    "        nums.append(nums[i])\n",
    "    nums[:]=nums[::-1][:orig_len]#так можно или это уже не инплейс?     \n",
    "    #если нелья, то похоже, что глупо работать со списком. надо вычислить новые индексы для каждого элемента какой-то простой функцие, а потом их расставить\n",
    "    #нужен комментарий где начинается и заканчивается inplace (можно ли добавлять новые элементы в исходный массив или нет\n",
    "    "
   ]
  },
  {
   "cell_type": "code",
   "execution_count": 105,
   "id": "dcd1500d-97f1-4c38-9dd5-b548168bc88c",
   "metadata": {},
   "outputs": [
    {
     "name": "stdout",
     "output_type": "stream",
     "text": [
      "[5, 6, 7, 1, 2, 3, 4]\n"
     ]
    }
   ],
   "source": [
    "rotate(0,nums = [1,2,3,4,5,6,7], k = 3)"
   ]
  },
  {
   "cell_type": "code",
   "execution_count": 101,
   "id": "67b4c50d-56a2-451a-aa57-d2035eb371b3",
   "metadata": {},
   "outputs": [
    {
     "data": {
      "text/plain": [
       "[5, 6, 7, 1, 2, 3, 4]"
      ]
     },
     "execution_count": 101,
     "metadata": {},
     "output_type": "execute_result"
    }
   ],
   "source": [
    "[5, 6, 7, 1, 2, 3, 4]"
   ]
  },
  {
   "cell_type": "markdown",
   "id": "8c91fd02-e797-48c8-bc32-1809b2fc3035",
   "metadata": {},
   "source": [
    "140\n",
    "ms\n",
    "Beats\n",
    "99.27%\n",
    "of users with Python3\n",
    "***** победа!"
   ]
  },
  {
   "cell_type": "code",
   "execution_count": 106,
   "id": "d1b24b9b-14a7-41fc-8bc5-3d23df713bb0",
   "metadata": {},
   "outputs": [],
   "source": [
    "#ДЗ - переписать 14ю [\"flower\",\"flow\",\"flight\"] без использования строки и count"
   ]
  },
  {
   "cell_type": "markdown",
   "id": "700fec71-607d-434b-b039-0a0afa2bbed6",
   "metadata": {},
   "source": [
    "Write a function to find the longest common prefix string amongst an array of strings. If there is no common prefix, return an empty string \"\".\n",
    "\n",
    "Example 1:\n",
    "\n",
    "Input: strs = [\"flower\",\"flow\",\"flight\"] Output: \"fl\" Example 2:\n",
    "\n",
    "Input: strs = [\"dog\",\"racecar\",\"car\"] Output: \"\" Explanation: There is no common prefix among the input strings.\n"
   ]
  },
  {
   "cell_type": "code",
   "execution_count": 276,
   "id": "74dfca16-3dd0-4917-a36e-54507077049f",
   "metadata": {},
   "outputs": [],
   "source": [
    "### НА ПРОВЕРКУ - переписал\n",
    "def longestCommonPrefix(self, strs):\n",
    "    \n",
    "\n",
    "     #if strs[0:1]*len(strs)==strs: #если все слова одинаковые, то тогда правильный ответ это слово целиком.\n",
    "     #    return strs[0] #вернул для ускорения, чтобы не гонять весь алго когда там слишком много одинаковых слов.\n",
    "    \n",
    "     strs = sorted(strs, key=lambda t: (len(t)))  #впереди минимальное по длине слово\n",
    "     #перписать на функцию min и lybda\n",
    "     \n",
    "    \n",
    "     min_word = strs[0]\n",
    "     max_pref = ''\n",
    "     total_word_q = len(strs) #это избыточно или нормально? или понятно, что такое len(strs) и заводить под это переменную не нужно?\n",
    "     #питон и так знает длину строки сразу, смысла нет, можно использовать len - так принято\n",
    "     \n",
    "     for i in range(len(min_word)): #с этой +1 опять запнулся\n",
    "         pref_count=0         \n",
    "         current_symb = min_word[i]         \n",
    "         for w in strs: # есть еще мысль как это ускорить, но пока оставлю так            \n",
    "            if current_symb == w[i]: #Заменить на буквенное сравнение\n",
    "                pref_count+=1\n",
    "         if pref_count!=total_word_q:\n",
    "             #дошли до слишком длинной приставки, которая уже не общая\n",
    "             return min_word[:i] \n",
    "     #прокрутили весь цилк и не вывалилсь - значит все слово мин является общей приставкой\n",
    "     return min_word\n",
    "         \n"
   ]
  },
  {
   "cell_type": "code",
   "execution_count": 277,
   "id": "ca6c8f88-ffe4-4a34-a3e4-a9d9acf59a69",
   "metadata": {},
   "outputs": [
    {
     "data": {
      "text/plain": [
       "'fl'"
      ]
     },
     "execution_count": 277,
     "metadata": {},
     "output_type": "execute_result"
    }
   ],
   "source": [
    "strs = [\"flower\",\"flow\",\"flight\"]\n",
    "longestCommonPrefix('',strs) #ковычки передаются вместо self, чтобы при сабмите не удалять self из функции\n"
   ]
  },
  {
   "cell_type": "code",
   "execution_count": 278,
   "id": "f6380b69-36ba-47a8-a4fe-8f28bded8346",
   "metadata": {},
   "outputs": [
    {
     "data": {
      "text/plain": [
       "''"
      ]
     },
     "execution_count": 278,
     "metadata": {},
     "output_type": "execute_result"
    }
   ],
   "source": [
    "strs = [\"dog\",\"racecar\",\"car\"]\n",
    "longestCommonPrefix(1,strs)"
   ]
  },
  {
   "cell_type": "markdown",
   "id": "fdd6facc-5c86-4012-bc6b-b83536282ca5",
   "metadata": {},
   "source": [
    "39\n",
    "ms\n",
    "Beats\n",
    "57.28%\n",
    "of users with Python3"
   ]
  },
  {
   "cell_type": "code",
   "execution_count": 266,
   "id": "038997d9-d47a-410c-8bc9-4f898829dc9c",
   "metadata": {},
   "outputs": [],
   "source": [
    "# а это вариант чатГПТ - я попросил его переписать мой код на самодокументуремы и хорошо читаемый\n",
    "def find_longest_common_prefix(strings: List[str]) -> str:\n",
    "    \"\"\"Finds the longest common prefix among a list of strings.\"\"\"\n",
    "    if not strings:\n",
    "        return \"\"\n",
    "    \n",
    "    # Early return if all strings are identical\n",
    "    if strings[0] * len(strings) == ''.join(strings): #оригинально было if strs[0:1]*len(strs)==strs:\n",
    "        return strings[0]\n",
    "    \n",
    "    strings.sort(key=len) #оригинально было strs = sorted(strs, key=lambda t: (len(t)))\n",
    "    shortest_word = strings[0]\n",
    "    \n",
    "    for i in range(len(shortest_word) + 1):\n",
    "        prefix = shortest_word[:i]\n",
    "        if all(word.startswith(prefix) for word in strings):\n",
    "            longest_prefix = prefix\n",
    "        else:\n",
    "            break\n",
    "    return longest_prefix"
   ]
  },
  {
   "cell_type": "code",
   "execution_count": null,
   "id": "f5dad8a8-c215-4d0d-80e7-28704d181dbd",
   "metadata": {},
   "outputs": [],
   "source": []
  },
  {
   "cell_type": "code",
   "execution_count": null,
   "id": "29adf323-d724-479e-b97b-cab29c806403",
   "metadata": {},
   "outputs": [],
   "source": [
    "#тут будет переделанная задача про связанный список"
   ]
  },
  {
   "cell_type": "code",
   "execution_count": null,
   "id": "17a35de4-3df2-4353-8693-247e2c81f7e7",
   "metadata": {},
   "outputs": [],
   "source": []
  },
  {
   "cell_type": "markdown",
   "id": "148f09d5-28f3-4ea8-af57-ca931ebdaa96",
   "metadata": {},
   "source": [
    "- https://leetcode.com/problems/longest-palindromic-substring\n",
    "- https://leetcode.com/problems/reverse-integer\n",
    "- https://leetcode.com/problems/generate-parentheses"
   ]
  },
  {
   "cell_type": "code",
   "execution_count": 284,
   "id": "95898442-0e5d-42e3-b1d7-961f0efb59c9",
   "metadata": {},
   "outputs": [],
   "source": [
    "### НА ПРОВЕРКУ\n",
    "def longestPalindrome(self, s):\n",
    "    \n",
    "    #для ускорения сразу \n",
    "    if s == s[::-1]: \n",
    "        return s \n",
    "    if len(s)==1:\n",
    "        return s\n",
    "\n",
    "    \n",
    "    l_s =   len(s)     #убираем\n",
    " \n",
    "    \n",
    "    max_len = 0\n",
    "    max_substring = ''\n",
    "    for i in range(l_s): #начинаю с целого слова и двигаюсь вправо n #алгоритм манахера за н операций.\n",
    "        for j in range(i+1,l_s): #n\n",
    "            sub_s = s[i:j]\n",
    "            if len(sub_s)<=max_len: #эту идею можно как-то развить и в принципе сюда не попадать\n",
    "                continue\n",
    "            print(sub_s)\n",
    "            if  sub_s == sub_s[::-1]: #проверка на палиндром \n",
    "                if len(sub_s)>max_len:\n",
    "                    max_len = len(sub_s)\n",
    "                    max_substring = sub_s\n",
    "    \n",
    "    return max_substring"
   ]
  },
  {
   "cell_type": "code",
   "execution_count": 285,
   "id": "7801d573-f5b6-4f9d-9532-d826afa0adb3",
   "metadata": {},
   "outputs": [
    {
     "name": "stdout",
     "output_type": "stream",
     "text": [
      "q\n",
      "qq\n",
      "qqc\n",
      "qqcb\n",
      "qqcbb\n",
      "qqcbbb\n",
      "qqcbbbd\n",
      "qqcbbbdq\n",
      "qcb\n",
      "qcbb\n",
      "qcbbb\n",
      "qcbbbd\n",
      "qcbbbdq\n",
      "cbb\n",
      "cbbb\n",
      "cbbbd\n",
      "cbbbdq\n",
      "bbb\n",
      "bbbd\n",
      "bbbdq\n",
      "bbdq\n"
     ]
    },
    {
     "data": {
      "text/plain": [
       "'bbb'"
      ]
     },
     "execution_count": 285,
     "metadata": {},
     "output_type": "execute_result"
    }
   ],
   "source": [
    "s = \"qqcbbbdqq\" #\"bb\"\n",
    "longestPalindrome('', s)\n"
   ]
  },
  {
   "cell_type": "markdown",
   "id": "02b2be46-3ac7-47ef-a830-2b97658525b7",
   "metadata": {},
   "source": [
    "4007 ms\n",
    "Beats\n",
    "20.91%\n",
    "of users with Python3\n",
    "\n",
    "ни каких особенных идей как это ускорить у меня нет"
   ]
  },
  {
   "cell_type": "code",
   "execution_count": 104,
   "id": "c298498e-d990-4059-8dab-9fe34202f25d",
   "metadata": {},
   "outputs": [],
   "source": [
    "###НА ПРОВЕРКУ\n",
    "def reverse(self, x: int) -> int: \n",
    "    #if not((-2**31) <= x <= (2**31 - 1)): #какие-то кейсы это условие все равно не ловит\n",
    "    #    return 0\n",
    "    \n",
    "    if x<0:\n",
    "        sign=-1\n",
    "    else:\n",
    "        sign=1\n",
    "    answer = int(str(abs(x))[::-1])\n",
    "    if answer>2**31:#на сабмите заметил, что 9646324351 -> 0\n",
    "        return 0\n",
    "    else:\n",
    "        return sign*answer"
   ]
  },
  {
   "cell_type": "code",
   "execution_count": 102,
   "id": "3ac8854d-5721-47a7-824d-9c9426839e15",
   "metadata": {},
   "outputs": [
    {
     "data": {
      "text/plain": [
       "321"
      ]
     },
     "execution_count": 102,
     "metadata": {},
     "output_type": "execute_result"
    }
   ],
   "source": [
    "reverse('',x = 123)"
   ]
  },
  {
   "cell_type": "code",
   "execution_count": 103,
   "id": "c586bbe1-3bbb-433a-9994-b6b3d99fc960",
   "metadata": {},
   "outputs": [
    {
     "data": {
      "text/plain": [
       "-321"
      ]
     },
     "execution_count": 103,
     "metadata": {},
     "output_type": "execute_result"
    }
   ],
   "source": [
    "reverse('',-123)"
   ]
  },
  {
   "cell_type": "markdown",
   "id": "c4d7abab-c767-4e39-bea2-d69ccb60e2f8",
   "metadata": {},
   "source": [
    "46\n",
    "ms\n",
    "Beats\n",
    "13.98%\n",
    "of users with Python3\n",
    "\n",
    "прошел, но слабо"
   ]
  },
  {
   "cell_type": "code",
   "execution_count": null,
   "id": "6b1c3523-9870-4110-b1a6-e8547d3a31f8",
   "metadata": {},
   "outputs": [],
   "source": []
  },
  {
   "cell_type": "markdown",
   "id": "20edf114-ae28-4deb-b5bc-3fea6b4ffe61",
   "metadata": {},
   "source": [
    "Given n pairs of parentheses, write a function to generate all combinations of well-formed parentheses.\n",
    "\n",
    " \n",
    "\n",
    "Example 1:\n",
    "\n",
    "Input: n = 3\n",
    "Output: [\"((()))\",\"(()())\",\"(())()\",\"()(())\",\"()()()\"]\n",
    "Example 2:\n",
    "\n",
    "Input: n = 1\n",
    "Output: [\"()\"]\n",
    " \n",
    "\n",
    "Constraints:\n",
    "\n",
    "1 <= n <= 8"
   ]
  },
  {
   "cell_type": "code",
   "execution_count": 178,
   "id": "b9de53cb-097f-49a6-bde0-f53ab9239b68",
   "metadata": {},
   "outputs": [],
   "source": [
    "    def generateParenthesis(self, n: int):\n",
    "        \n",
    "        def is_well_formed(in_str): #возьму из предыдущей задачи со скобами и стеком\n",
    "            \n",
    "            pass\n",
    "        \n",
    "        variants = [')','(']\n",
    "        while True:\n",
    "            v_l = len(variants)\n",
    "            for i in range(v_l):\n",
    "                variants.append(variants[i]+')')\n",
    "                variants.append(variants[i]+'(')\n",
    "            #print(variants)\n",
    "            if len(variants[-1])==n*2:\n",
    "                break\n",
    "        j = 0\n",
    "        for v in variants[::-1]: #не представляю сколько этот разворот по времени. может быстрее по индексу от большого вниз\n",
    "            if len(v)<n*2:\n",
    "                break\n",
    "            else:\n",
    "                if is_well_formed(v):\n",
    "                    results.append(v)\n",
    "                #здесь сформировал полный список 2**(n*2) всех возможных комбинаций\n",
    "                #можно проверять пропуская варианты где количество закрывающих открывающих скобок не равно\n",
    "                \n",
    "        return results\n"
   ]
  },
  {
   "cell_type": "code",
   "execution_count": 183,
   "id": "050acf01-e821-441a-8e96-92fc3bc33d30",
   "metadata": {},
   "outputs": [
    {
     "name": "stdout",
     "output_type": "stream",
     "text": [
      "((((\n",
      "((()\n",
      "(()(\n",
      "(())\n",
      "()((\n",
      "()()\n",
      "())(\n",
      "()))\n",
      ")(((\n",
      ")(()\n",
      ")()(\n",
      ")())\n",
      "))((\n",
      "))()\n",
      ")))(\n",
      "))))\n"
     ]
    }
   ],
   "source": [
    "generateParenthesis('',2)"
   ]
  },
  {
   "cell_type": "code",
   "execution_count": 286,
   "id": "e966d9e4-e8d0-48e2-b818-b6efe0969958",
   "metadata": {},
   "outputs": [],
   "source": [
    "#в реальной жизни я бы сделал через itertools но вот лютый хак через exec\n",
    "#я понял уже от тебя что так нельзя делать, но просто удивись как работает мозг человека вне коллектива\n",
    "\n",
    "def generateParenthesis(self, n: int):\n",
    "    def is_well_formed(in_str): #возьму из предыдущей задачи со скобами и стеком\n",
    "        pass\n",
    "    \n",
    "    eval_str=''\n",
    "    for i in range(n*2):\n",
    "        eval_str+='  '*i+f'for a{i} in \"()\":\\n'\n",
    "        \n",
    "    eval_str+='  '*i+'  print(a0'+''.join(['+a'+str(x) for x in range(1,n*2)])+')'\n",
    "    print(eval_str)\n",
    "    print(exec(eval_str))"
   ]
  },
  {
   "cell_type": "code",
   "execution_count": 287,
   "id": "1bc0eb4e-94a1-41b4-9245-be19d6a2d1bb",
   "metadata": {},
   "outputs": [
    {
     "name": "stdout",
     "output_type": "stream",
     "text": [
      "for a0 in \"()\":\n",
      "  for a1 in \"()\":\n",
      "    print(a0+a1)\n",
      "((\n",
      "()\n",
      ")(\n",
      "))\n",
      "None\n"
     ]
    }
   ],
   "source": [
    "generateParenthesis('',1)"
   ]
  },
  {
   "cell_type": "code",
   "execution_count": 172,
   "id": "6cb70034-c18d-416f-848d-66c8e9b34d33",
   "metadata": {},
   "outputs": [],
   "source": [
    "#здесь напрашивается рекурсия, которую я так и не смог осознать так как не было таких потребностей, \n",
    "#если нужно было сделать комбинаций произвольной длины, то пользовался итертулзом пару раз"
   ]
  },
  {
   "cell_type": "code",
   "execution_count": 256,
   "id": "22f3ec8a-464e-4b6f-b2d9-7460a8f914f0",
   "metadata": {},
   "outputs": [],
   "source": [
    "def factorial(n):\n",
    "    print(f\"Вызов factorial({n})\")\n",
    "    \n",
    "    if n == 0:\n",
    "        print(f\"Цель достигнута: factorial(0) = 1\")\n",
    "        return 1\n",
    "    \n",
    "    else:\n",
    "        print(f\"Рекурсивный вызов: {n} * factorial({n-1})\")\n",
    "        next_n = n-1\n",
    "        result = n * factorial(next_n)\n",
    "        print(f\"Возврат: factorial({n}) = {result}\")\n",
    "        return result"
   ]
  },
  {
   "cell_type": "code",
   "execution_count": 257,
   "id": "7774481e-3c97-422e-a363-1568d6dbf6cd",
   "metadata": {},
   "outputs": [
    {
     "name": "stdout",
     "output_type": "stream",
     "text": [
      "Вызов factorial(5)\n",
      "Рекурсивный вызов: 5 * factorial(4)\n",
      "Вызов factorial(4)\n",
      "Рекурсивный вызов: 4 * factorial(3)\n",
      "Вызов factorial(3)\n",
      "Рекурсивный вызов: 3 * factorial(2)\n",
      "Вызов factorial(2)\n",
      "Рекурсивный вызов: 2 * factorial(1)\n",
      "Вызов factorial(1)\n",
      "Рекурсивный вызов: 1 * factorial(0)\n",
      "Вызов factorial(0)\n",
      "Цель достигнута: factorial(0) = 1\n",
      "Возврат: factorial(1) = 1\n",
      "Возврат: factorial(2) = 2\n",
      "Возврат: factorial(3) = 6\n",
      "Возврат: factorial(4) = 24\n",
      "Возврат: factorial(5) = 120\n"
     ]
    },
    {
     "data": {
      "text/plain": [
       "120"
      ]
     },
     "execution_count": 257,
     "metadata": {},
     "output_type": "execute_result"
    }
   ],
   "source": [
    "factorial(5)"
   ]
  },
  {
   "cell_type": "code",
   "execution_count": 258,
   "id": "241e4eae-14e1-4bd0-97a0-ded840f02825",
   "metadata": {},
   "outputs": [
    {
     "name": "stdout",
     "output_type": "stream",
     "text": [
      "0.001480000006267801\n",
      "0.0054472000047098845\n",
      "0.2650876999978209\n"
     ]
    }
   ],
   "source": [
    "import timeit\n",
    "\n",
    "# Рекурсивный подход\n",
    "def generate_combinations_recursive(current_string, n, results):\n",
    "    if len(current_string) == n:\n",
    "        results.append(current_string)\n",
    "        return\n",
    "    else:\n",
    "        generate_combinations_recursive(current_string + '0', n, results)\n",
    "        generate_combinations_recursive(current_string + '1', n, results)\n",
    "\n",
    "# Итеративный подход\n",
    "def generate_combinations_iterative(n):\n",
    "    variants = ['0', '1']\n",
    "    while True:\n",
    "        v_l = len(variants)\n",
    "        for i in range(v_l):\n",
    "            variants.append(variants[i] + '0')\n",
    "            variants.append(variants[i] + '1')\n",
    "        if len(variants[-1]) == n:\n",
    "            break\n",
    "    return [v for v in variants if len(v) == n]\n",
    "\n",
    "# Подход с eval (упрощенный пример)\n",
    "def generate_combinations_eval(n):\n",
    "    variants = []\n",
    "    eval_str = ''\n",
    "    for i in range(n*2):\n",
    "        eval_str += '  ' * i + f'for a{i} in \"01\":\\n'\n",
    "    eval_str += '  ' * i + '  variants.append(a0' + ''.join(['+a' + str(x) for x in range(1, n*2)]) + ')'\n",
    "    exec(eval_str)\n",
    "    \n",
    "\n",
    "# Оценка времени выполнения\n",
    "n = 6  # Пример значения n для демонстрации\n",
    "print(timeit.timeit(lambda: generate_combinations_recursive('', n, []), number=100))\n",
    "print(timeit.timeit(lambda: generate_combinations_iterative(n), number=100))\n",
    "print(timeit.timeit(lambda: generate_combinations_eval(n), number=100))\n"
   ]
  },
  {
   "cell_type": "code",
   "execution_count": 259,
   "id": "5c1360d9-927a-4e69-8756-0e17c5d1997c",
   "metadata": {},
   "outputs": [],
   "source": [
    "def generate_combinations_recursive(current_string, n, results):\n",
    "    # Проверяем, достигла ли текущая строка заданной длины\n",
    "    if len(current_string) == n:\n",
    "        print(f\"Добавляем комбинацию в результат: {current_string}\")\n",
    "        results.append(current_string)\n",
    "        return\n",
    "    else:\n",
    "        # Добавляем '0' к текущей строке и делаем рекурсивный вызов\n",
    "        print(f\"Добавляем '0' к строке: {current_string} -> {current_string + '0'}\")\n",
    "        generate_combinations_recursive(current_string + '0', n, results)\n",
    "        \n",
    "        # Добавляем '1' к текущей строке и делаем рекурсивный вызов\n",
    "        print(f\"Добавляем '1' к строке: {current_string} -> {current_string + '1'}\")\n",
    "        generate_combinations_recursive(current_string + '1', n, results)"
   ]
  },
  {
   "cell_type": "code",
   "execution_count": 260,
   "id": "50a812f0-ed3d-4e28-b31f-cd3434e76c27",
   "metadata": {},
   "outputs": [
    {
     "name": "stdout",
     "output_type": "stream",
     "text": [
      "Добавляем '0' к строке:  -> 0\n",
      "Добавляем '0' к строке: 0 -> 00\n",
      "Добавляем комбинацию в результат: 00\n",
      "Добавляем '1' к строке: 0 -> 01\n",
      "Добавляем комбинацию в результат: 01\n",
      "Добавляем '1' к строке:  -> 1\n",
      "Добавляем '0' к строке: 1 -> 10\n",
      "Добавляем комбинацию в результат: 10\n",
      "Добавляем '1' к строке: 1 -> 11\n",
      "Добавляем комбинацию в результат: 11\n"
     ]
    }
   ],
   "source": [
    "generate_combinations_recursive('',2,[])"
   ]
  },
  {
   "cell_type": "code",
   "execution_count": 207,
   "id": "859c8cfa-9a53-44a4-bafa-2c80cf827744",
   "metadata": {},
   "outputs": [],
   "source": [
    "def factorial(n):\n",
    "    if n == 1:  # Базовый случай\n",
    "        return 1\n",
    "    else:\n",
    "        next_n = n-1\n",
    "        print(next_n,end='*')\n",
    "        return n * factorial(next_n)  # Рекурсивный случай"
   ]
  },
  {
   "cell_type": "code",
   "execution_count": 206,
   "id": "13425163-4305-43de-9e56-632ed134a4fe",
   "metadata": {},
   "outputs": [
    {
     "name": "stdout",
     "output_type": "stream",
     "text": [
      "3*2*1*"
     ]
    },
    {
     "data": {
      "text/plain": [
       "24"
      ]
     },
     "execution_count": 206,
     "metadata": {},
     "output_type": "execute_result"
    }
   ],
   "source": [
    "factorial(4)"
   ]
  },
  {
   "cell_type": "code",
   "execution_count": 208,
   "id": "afea20f0-ec02-4ed1-bccd-086c9420d3f4",
   "metadata": {},
   "outputs": [],
   "source": [
    "def is_palindrome(s):\n",
    "    print(s)\n",
    "    # Базовый случай: пустая строка или строка из одного символа является палиндромом\n",
    "    if len(s) <= 1:\n",
    "        return True\n",
    "    # Если первый и последний символы разные, строка не палиндром\n",
    "    if s[0] != s[-1]:\n",
    "        return False\n",
    "    # Рекурсивный вызов для строки без первого и последнего символа\n",
    "    s = s[1:-1]  # сократили значение\n",
    "    return is_palindrome(s)"
   ]
  },
  {
   "cell_type": "code",
   "execution_count": 210,
   "id": "feafeb41-ebc8-4cb3-b2c9-1be753ac139a",
   "metadata": {},
   "outputs": [
    {
     "name": "stdout",
     "output_type": "stream",
     "text": [
      "qtrrtq\n",
      "trrt\n",
      "rr\n",
      "\n"
     ]
    },
    {
     "data": {
      "text/plain": [
       "True"
      ]
     },
     "execution_count": 210,
     "metadata": {},
     "output_type": "execute_result"
    }
   ],
   "source": [
    "is_palindrome('qtrrtq')"
   ]
  },
  {
   "cell_type": "code",
   "execution_count": 315,
   "id": "788db1d8-291a-42e4-b130-585451d4ddfd",
   "metadata": {},
   "outputs": [],
   "source": [
    "def generate_combinations_recursive(current_string, n, results):\n",
    "    \n",
    "    \n",
    "    print(current_string,n,results)\n",
    "    if len(current_string) == n:\n",
    "        print('yes')\n",
    "        results.append(current_string)\n",
    "        return results\n",
    "    \n",
    "    else:        \n",
    "        generate_combinations_recursive(current_string+'0', n, results)\n",
    "        generate_combinations_recursive(current_string+'1', n, results)"
   ]
  },
  {
   "cell_type": "code",
   "execution_count": 316,
   "id": "d13fdad4-8f31-428d-b048-f95bc041c4f7",
   "metadata": {},
   "outputs": [
    {
     "name": "stdout",
     "output_type": "stream",
     "text": [
      " 3 []\n",
      "0 3 []\n",
      "00 3 []\n",
      "000 3 []\n",
      "yes\n",
      "001 3 ['000']\n",
      "yes\n",
      "01 3 ['000', '001']\n",
      "010 3 ['000', '001']\n",
      "yes\n",
      "011 3 ['000', '001', '010']\n",
      "yes\n",
      "1 3 ['000', '001', '010', '011']\n",
      "10 3 ['000', '001', '010', '011']\n",
      "100 3 ['000', '001', '010', '011']\n",
      "yes\n",
      "101 3 ['000', '001', '010', '011', '100']\n",
      "yes\n",
      "11 3 ['000', '001', '010', '011', '100', '101']\n",
      "110 3 ['000', '001', '010', '011', '100', '101']\n",
      "yes\n",
      "111 3 ['000', '001', '010', '011', '100', '101', '110']\n",
      "yes\n"
     ]
    }
   ],
   "source": [
    "\n",
    "generate_combinations_recursive('',3,[])\n"
   ]
  },
  {
   "cell_type": "code",
   "execution_count": 314,
   "id": "a3f13562-3bf5-44c1-b1e2-ed98035414e4",
   "metadata": {},
   "outputs": [],
   "source": [
    "results"
   ]
  },
  {
   "cell_type": "code",
   "execution_count": null,
   "id": "98e7c938-7ff5-4010-a98f-eea8950cc319",
   "metadata": {},
   "outputs": [],
   "source": []
  },
  {
   "cell_type": "code",
   "execution_count": null,
   "id": "f1b15e3c-639d-47bc-bb0a-4371305a1543",
   "metadata": {},
   "outputs": [],
   "source": []
  }
 ],
 "metadata": {
  "kernelspec": {
   "display_name": "Python 3 (ipykernel)",
   "language": "python",
   "name": "python3"
  },
  "language_info": {
   "codemirror_mode": {
    "name": "ipython",
    "version": 3
   },
   "file_extension": ".py",
   "mimetype": "text/x-python",
   "name": "python",
   "nbconvert_exporter": "python",
   "pygments_lexer": "ipython3",
   "version": "3.11.5"
  }
 },
 "nbformat": 4,
 "nbformat_minor": 5
}
