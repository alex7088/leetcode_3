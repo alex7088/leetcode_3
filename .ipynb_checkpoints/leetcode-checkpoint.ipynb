{
 "cells": [
  {
   "cell_type": "code",
   "execution_count": null,
   "id": "106542f6-34bc-4f22-a791-f6f51cd73fb8",
   "metadata": {},
   "outputs": [],
   "source": [
    "import "
   ]
  },
  {
   "cell_type": "code",
   "execution_count": 41,
   "id": "56bd439e-b1a2-4013-87ae-ce7fb474bef4",
   "metadata": {},
   "outputs": [],
   "source": [
    "class Solver():\n",
    "    def __init__(self):\n",
    "        self.nums = []\n",
    "        self.target = 0\n",
    "    def getInput(self):\n",
    "        self.nums = list(map(int, input().split(',')))\n",
    "        self.target = int(input())\n",
    "        #print(self.nums,self.target)\n",
    "    def solve(self):\n",
    "        self.getInput()\n",
    "        solution = Solution()\n",
    "        print(solution.twoSum(self.nums,self.target))"
   ]
  },
  {
   "cell_type": "code",
   "execution_count": 49,
   "id": "b7c6d4a9-49d4-4740-bd8c-70aae436ecc7",
   "metadata": {},
   "outputs": [],
   "source": [
    "class Solution:\n",
    "    def twoSum(self,nums,target):\n",
    "        for i in range(len(nums)):\n",
    "            for j in range(i+1,len(nums)):\n",
    "                if nums[i]+nums[j]==target:\n",
    "                    return [i,j]\n",
    "    \n",
    "    def isPalindrome(self,x):\n",
    "        if str(x)==str(x)[::-1]:\n",
    "            return True\n",
    "        else:\n",
    "            return False\n",
    "         \n",
    "        "
   ]
  },
  {
   "cell_type": "code",
   "execution_count": 46,
   "id": "2b532c68-52d5-4eb6-acef-837f24f03b05",
   "metadata": {},
   "outputs": [],
   "source": []
  },
  {
   "cell_type": "code",
   "execution_count": 55,
   "id": "0b487443-994c-4522-9b35-313364f708de",
   "metadata": {},
   "outputs": [
    {
     "data": {
      "text/plain": [
       "True"
      ]
     },
     "execution_count": 55,
     "metadata": {},
     "output_type": "execute_result"
    }
   ],
   "source": [
    "Solution.isPalindrome(1,x=121)"
   ]
  },
  {
   "cell_type": "code",
   "execution_count": 56,
   "id": "5d35fe6b-5397-4ec8-a699-6eb707e790ec",
   "metadata": {},
   "outputs": [
    {
     "data": {
      "text/plain": [
       "False"
      ]
     },
     "execution_count": 56,
     "metadata": {},
     "output_type": "execute_result"
    }
   ],
   "source": [
    "Solution.isPalindrome(1,x=-121)"
   ]
  },
  {
   "cell_type": "markdown",
   "id": "6eee68d8-167d-44b8-b46f-4153e6594f93",
   "metadata": {},
   "source": [
    "For example, 2 is written as II in Roman numeral, just two ones added together. 12 is written as XII, which is simply X + II. \n",
    "The number 27 is written as XXVII, which is XX + V + II.\n",
    "Roman numerals are usually written largest to smallest from left to right. However, the numeral for four is not IIII. \n",
    "Instead, the number four is written as IV. Because the one is before the five we subtract it making four. \n",
    "The same principle applies to the number nine, which is written as IX. There are six instances where subtraction is used:\n",
    "I can be placed before V (5) and X (10) to make 4 and 9. \n",
    "X can be placed before L (50) and C (100) to make 40 and 90. \n",
    "C can be placed before D (500) and M (1000) to make 400 and 900.\n",
    "Given a roman numeral, convert it to an integer."
   ]
  },
  {
   "cell_type": "code",
   "execution_count": 15,
   "id": "1d92db75-daf6-4644-8a51-ce05a27098ee",
   "metadata": {},
   "outputs": [],
   "source": [
    "def romanToInt(self, s):\n",
    "    rom_d = {\n",
    "        'I': 1,\n",
    "        'V': 5,\n",
    "        'X': 10,\n",
    "        'L': 50,\n",
    "        'C': 100,\n",
    "        'D': 500,\n",
    "        'M': 1000}\n",
    "    rom_double_d = {\n",
    "        'IV': 4, \n",
    "        'IX': 9,\n",
    "        'XL': 40,\n",
    "        'XC': 90,\n",
    "        'CD': 400,\n",
    "        'CM': 900}\n",
    "    for key in rom_double_d:\n",
    "        s=s.replace(key,','+str(rom_double_d[key]))\n",
    "    for key in rom_d:\n",
    "        s=s.replace(key,','+str(rom_d[key]))\n",
    "    print(s)\n",
    "    return sum([int(x) for x in s[1:].split(',')])\n"
   ]
  },
  {
   "cell_type": "code",
   "execution_count": 16,
   "id": "cf5c1962-971e-49fc-8641-50a51cce3f52",
   "metadata": {},
   "outputs": [
    {
     "name": "stdout",
     "output_type": "stream",
     "text": [
      ",1,1,1\n"
     ]
    },
    {
     "data": {
      "text/plain": [
       "3"
      ]
     },
     "execution_count": 16,
     "metadata": {},
     "output_type": "execute_result"
    }
   ],
   "source": [
    "romanToInt('','III')"
   ]
  },
  {
   "cell_type": "code",
   "execution_count": 17,
   "id": "06a9c245-112d-4f35-8b72-ff1acb131388",
   "metadata": {},
   "outputs": [
    {
     "name": "stdout",
     "output_type": "stream",
     "text": [
      ",1000,900,90,4\n"
     ]
    },
    {
     "data": {
      "text/plain": [
       "1994"
      ]
     },
     "execution_count": 17,
     "metadata": {},
     "output_type": "execute_result"
    }
   ],
   "source": [
    "romanToInt('', \"MCMXCIV\")"
   ]
  },
  {
   "cell_type": "markdown",
   "id": "4c87d03c-0767-4b13-8fbc-f0ac83950c32",
   "metadata": {},
   "source": [
    "result:\n",
    "78 ms Beats 7.14% of users with Python3 \n",
    "****это я худший? то есть большинство решили быстрее?"
   ]
  },
  {
   "cell_type": "markdown",
   "id": "2131da4a-405a-4fa3-a8c9-8c5a11a17a5f",
   "metadata": {},
   "source": [
    "Write a function to find the longest common prefix string amongst an array of strings.\n",
    "If there is no common prefix, return an empty string \"\".\n",
    "\n",
    "Example 1:\n",
    "\n",
    "Input: strs = [\"flower\",\"flow\",\"flight\"]\n",
    "Output: \"fl\"\n",
    "Example 2:\n",
    "\n",
    "Input: strs = [\"dog\",\"racecar\",\"car\"]\n",
    "Output: \"\"\n",
    "Explanation: There is no common prefix among the input strings."
   ]
  },
  {
   "cell_type": "code",
   "execution_count": 28,
   "id": "b971a3a4-3701-43e1-9b46-a3cb0db0d1d9",
   "metadata": {},
   "outputs": [],
   "source": [
    "\n",
    "   "
   ]
  },
  {
   "cell_type": "code",
   "execution_count": 183,
   "id": "ae38f401-cef8-49b9-b512-13a85f655e23",
   "metadata": {},
   "outputs": [
    {
     "data": {
      "text/plain": [
       "[('fl', 2), ('fl', 2), ('fl', 2), ('f', 1), ('f', 1), ('f', 1)]"
      ]
     },
     "execution_count": 183,
     "metadata": {},
     "output_type": "execute_result"
    }
   ],
   "source": [
    "sorted([('f', 1), ('f', 1), ('f', 1), ('fl', 2), ('fl', 2), ('fl', 2)], key=lambda t: (-t[1])) \n",
    "#вспомнил как работает, или можно reversed"
   ]
  },
  {
   "cell_type": "code",
   "execution_count": 20,
   "id": "29349ed4-2c6f-4edc-8b0b-778e7b98380b",
   "metadata": {},
   "outputs": [
    {
     "data": {
      "text/plain": [
       "'fl'"
      ]
     },
     "execution_count": 20,
     "metadata": {},
     "output_type": "execute_result"
    }
   ],
   "source": [
    "strs = [\"flower\",\"flow\",\"flight\"]\n",
    "longestCommonPrefix('',strs) #ковычки передаются вместо self, чтобы при сабмите не удалять self из функции\n"
   ]
  },
  {
   "cell_type": "code",
   "execution_count": 185,
   "id": "f30d55f6-e70a-490f-a5fe-d474547ce877",
   "metadata": {},
   "outputs": [
    {
     "data": {
      "text/plain": [
       "''"
      ]
     },
     "execution_count": 185,
     "metadata": {},
     "output_type": "execute_result"
    }
   ],
   "source": [
    "strs = [\"dog\",\"racecar\",\"car\"]\n",
    "longestCommonPrefix(1,strs)"
   ]
  },
  {
   "cell_type": "code",
   "execution_count": 27,
   "id": "1dd60dd1-d37c-4894-bb8f-b5a82d7bbae7",
   "metadata": {},
   "outputs": [
    {
     "data": {
      "text/plain": [
       "'a'"
      ]
     },
     "execution_count": 27,
     "metadata": {},
     "output_type": "execute_result"
    }
   ],
   "source": [
    "strs = ['a']\n",
    "longestCommonPrefix('',strs)"
   ]
  },
  {
   "cell_type": "code",
   "execution_count": 187,
   "id": "d181f211-1de8-43e8-a436-a861cfb50496",
   "metadata": {},
   "outputs": [
    {
     "data": {
      "text/plain": [
       "'a'"
      ]
     },
     "execution_count": 187,
     "metadata": {},
     "output_type": "execute_result"
    }
   ],
   "source": [
    "strs = [\"ab\", \"a\"]\n",
    "longestCommonPrefix('',strs)"
   ]
  },
  {
   "cell_type": "code",
   "execution_count": 29,
   "id": "2f5a1e97-1b21-420c-b6dc-2dffe89efd2e",
   "metadata": {},
   "outputs": [
    {
     "data": {
      "text/plain": [
       "'flowe'"
      ]
     },
     "execution_count": 29,
     "metadata": {},
     "output_type": "execute_result"
    }
   ],
   "source": [
    "strs = [\"flower\",\"flower\",\"flower\",\"flower\"]\n",
    "longestCommonPrefix('',strs)"
   ]
  },
  {
   "cell_type": "markdown",
   "id": "c1724305-db94-4969-a3d6-ccfc237374a3",
   "metadata": {},
   "source": [
    "790 ms Beats 5.26% of users with Python3\\\n",
    "***в целом я не понял откуда взялись дополнительные условия и пришлось править код по ходу сабмитов"
   ]
  },
  {
   "cell_type": "code",
   "execution_count": null,
   "id": "995be8fc-b535-49e1-90fe-294c644a6982",
   "metadata": {},
   "outputs": [],
   "source": []
  },
  {
   "cell_type": "markdown",
   "id": "5b7f90f9-0950-49fe-8ff2-4499bb55dc52",
   "metadata": {},
   "source": [
    "Given a string s containing just the characters '(', ')', '{', '}', '[' and ']', determine if the input string is valid.\n",
    "\n",
    "An input string is valid if:\n",
    "\n",
    "Open brackets must be closed by the same type of brackets.\n",
    "Open brackets must be closed in the correct order.\n",
    "Every close bracket has a corresponding open bracket of the same type.\n",
    " \n",
    "\n",
    "Example 1:\n",
    "\n",
    "Input: s = \"()\"\n",
    "Output: true\n",
    "Example 2:\n",
    "\n",
    "Input: s = \"()[]{}\"\n",
    "Output: true\n",
    "Example 3:\n",
    "\n",
    "Input: s = \"(]\"\n",
    "Output: false"
   ]
  },
  {
   "cell_type": "code",
   "execution_count": 245,
   "id": "9a6e1d16-b624-4e34-97d1-8d658df784ad",
   "metadata": {},
   "outputs": [],
   "source": [
    "def isValid(self, s):\n",
    "    \n",
    "        clear_s = ''.join([x for x in s if x in \"()[]{}\"]) #очистил\n",
    "        open_s = '([{'\n",
    "        close_d = {')':'(',']':'[','}':'{'}\n",
    "        stack = []\n",
    "        #print(clear_s)\n",
    "        for c in clear_s:\n",
    "            #print()\n",
    "            #print(c)\n",
    "            if c in open_s:\n",
    "                stack.append(c)\n",
    "                #print('append',stack)\n",
    "            else: #закрывает\n",
    "                if stack == [] or stack[-1]!=close_d[c]:\n",
    "                    #print('error',stack)\n",
    "                    return False\n",
    "                else:\n",
    "                    #print('pop',stack)\n",
    "                    stack.pop(-1)\n",
    "        if stack==[]:            \n",
    "            return True\n",
    "        else:\n",
    "            return False\n",
    "                \n",
    "        "
   ]
  },
  {
   "cell_type": "markdown",
   "id": "78f2c749-71aa-4d7f-ba3e-e0f055aae37a",
   "metadata": {},
   "source": [
    "38\n",
    "ms\n",
    "Beats\n",
    "49.44%\n",
    "of users with Python3"
   ]
  },
  {
   "cell_type": "code",
   "execution_count": null,
   "id": "ac89c314-7ee4-4d64-a967-6b0a1adc9fcf",
   "metadata": {},
   "outputs": [],
   "source": []
  },
  {
   "cell_type": "code",
   "execution_count": 30,
   "id": "87bacda4-3571-4280-aeae-9ea157bf6278",
   "metadata": {},
   "outputs": [],
   "source": [
    "# Definition for singly-linked list.\n",
    "class ListNode:\n",
    "     def __init__(self, val =0, next=None):\n",
    "         self.val = val\n",
    "         self.next = next\n",
    "         \n",
    "     def __str__(self):\n",
    "        out_l = []\n",
    "        node = self\n",
    "        while node!=None: #случайно получилось с первого раз развернуть\n",
    "            if node.next==None:\n",
    "                next_s = '> None'\n",
    "            else:\n",
    "                next_s = '>'\n",
    "            out_l.append(str(node.val))\n",
    "            out_l.append(next_s)\n",
    "            node = node.next\n",
    "        return ' '.join(out_l)\n",
    "\n",
    "\n",
    "\n",
    "\n",
    "def mergeTwoLists(self, list1, list2):\n",
    " \n",
    "     def node_to_list(node):\n",
    "        out_l = []           \n",
    "        while node!=None: #случайно получилось с первого раз развернуть\n",
    "            out_l.append(node.val)\n",
    "            node = node.next\n",
    "        return out_l\n",
    "         \n",
    "     def list_to_node(in_list): #здесь сплошная головная боль, я так и не смог у себя уместить эту абстракцию.\n",
    "         \n",
    "         if in_list == []:#если пустой список ничего то овтет None - это ясно ставноится после сабмитов\n",
    "             return None\n",
    "         last_digit = in_list[-1]\n",
    "         prev_node = ListNode(val = last_digit)\n",
    "         if len(in_list)==1: #cписок из одного элемента\n",
    "             return prev_node\n",
    "         new_node = ListNode()\n",
    "         for i in range(len(in_list)-2,-1,-1): #пришлось идти с конца в начало, причем начинать с пердпоследнего значения                \n",
    "             e= in_list[i]\n",
    "             new_node=ListNode(val = e)\n",
    "             new_node.next = prev_node                \n",
    "             prev_node = new_node\n",
    "    \n",
    "         return new_node\n",
    "    \n",
    "     out_list =list(sorted(node_to_list(list1)+node_to_list(list2)))\n",
    "     return list_to_node(out_list)"
   ]
  },
  {
   "cell_type": "code",
   "execution_count": 33,
   "id": "3ea80b53-505e-475a-93ca-d50f43fc56ee",
   "metadata": {},
   "outputs": [
    {
     "name": "stdout",
     "output_type": "stream",
     "text": [
      "1 > 2 > 3 > None\n",
      "0 > 2 > 4 > 6 > None\n",
      "0 > 1 > 2 > 2 > 3 > 4 > 6 > None\n"
     ]
    }
   ],
   "source": [
    "l1 = ListNode(1,ListNode(2,ListNode(3)))\n",
    "print(l1)\n",
    "l2 = ListNode(0,ListNode(2,ListNode(4,ListNode(6))))\n",
    "print(l2)\n",
    "print(mergeTwoLists(0,l1,l2))"
   ]
  },
  {
   "cell_type": "code",
   "execution_count": null,
   "id": "9759b7e9-0013-4940-999a-5397948f12a6",
   "metadata": {},
   "outputs": [],
   "source": []
  },
  {
   "cell_type": "raw",
   "id": "8ed33a56-f098-4505-be4f-aaf3a1050600",
   "metadata": {},
   "source": [
    "41ms\n",
    "Beats 49.23%\n",
    "of users with Python3"
   ]
  },
  {
   "cell_type": "code",
   "execution_count": null,
   "id": "cd24e89d-dc13-4045-82d2-d8b46915cae6",
   "metadata": {},
   "outputs": [],
   "source": []
  },
  {
   "cell_type": "code",
   "execution_count": 293,
   "id": "7a4b13fc-9117-4d51-a52a-54b19ecebf9d",
   "metadata": {},
   "outputs": [],
   "source": [
    "def removeDuplicates(self, nums):\n",
    "    for i in range(len(nums)-1,0,-1): #это я знаю, что если выкидывать что-то из списка по ходу, то идти надо от конца\n",
    "        if nums[i]==nums[i-1]:\n",
    "            nums.pop(i)\n",
    "    return len(nums), nums #из кода при сабмите пришлось убрать сам список, я так и не понял как они контролируют что я очищаю список по месту, а не создаю копию. \n",
    "    #так то я знаю как убрать дубликаты в одно движение через set"
   ]
  },
  {
   "cell_type": "code",
   "execution_count": 294,
   "id": "63ce032f-882e-452b-954e-cb4c9667cd98",
   "metadata": {},
   "outputs": [
    {
     "data": {
      "text/plain": [
       "(2, [1, 2])"
      ]
     },
     "execution_count": 294,
     "metadata": {},
     "output_type": "execute_result"
    }
   ],
   "source": [
    "removeDuplicates(0,[1,1,2])"
   ]
  },
  {
   "cell_type": "code",
   "execution_count": 295,
   "id": "de858fde-d59c-466a-92ca-25af575959b0",
   "metadata": {},
   "outputs": [
    {
     "data": {
      "text/plain": [
       "(5, [0, 1, 2, 3, 4])"
      ]
     },
     "execution_count": 295,
     "metadata": {},
     "output_type": "execute_result"
    }
   ],
   "source": [
    "removeDuplicates(0,[0,0,1,1,1,2,2,3,3,4])"
   ]
  },
  {
   "cell_type": "raw",
   "id": "b3b46556-8feb-432a-823b-4244f6973757",
   "metadata": {},
   "source": [
    "69 ms\n",
    "Beats 91.19%\n",
    "of users with Python3"
   ]
  },
  {
   "cell_type": "code",
   "execution_count": null,
   "id": "63af9512-e293-421e-a445-46217a3df631",
   "metadata": {},
   "outputs": [],
   "source": []
  },
  {
   "cell_type": "code",
   "execution_count": 34,
   "id": "a8b47e77-79b7-4f6f-bd82-b20df9a67d13",
   "metadata": {},
   "outputs": [],
   "source": [
    "#ДЗ переписать не использую перегон в List и обрытно, для этого нужно научится вставлять ноду по ходу перебора \n",
    "#откладываем \n",
    "#сделать репозиторий публичным\n",
    "#скинуть ссылку"
   ]
  },
  {
   "cell_type": "markdown",
   "id": "f3735d83-6f39-4c32-9d58-d14565bb0d35",
   "metadata": {},
   "source": [
    "Каждый раз когда я делаю изменения в нотубуке то\n",
    "1. git add\n",
    "2. git status\n",
    "3. git commit -m \"comment add ...dit ....\"\n",
    "4. git push (--force если расхождения)\n",
    "5. \n"
   ]
  },
  {
   "cell_type": "markdown",
   "id": "75f9a200-32b6-41f2-8c84-2f0ce52ce668",
   "metadata": {},
   "source": [
    "ДЗ: смотрю предыдущий список - решаю + новый список\n",
    "ДЗ: предыдущий список:\n",
    "###https://leetcode.com/problems/remove-duplicates-from-sorted-array\n",
    "###https://leetcode.com/problems/rotate-array\n",
    "###https://leetcode.com/problems/roman-to-integer"
   ]
  },
  {
   "cell_type": "code",
   "execution_count": 40,
   "id": "2fd681de-f861-4f48-9ccb-43bf72c84ee4",
   "metadata": {},
   "outputs": [],
   "source": [
    "\n",
    "def rotate(self, nums, k): #Решение в лоб\n",
    "    \"\"\"\n",
    "    Do not return anything, modify nums in-place instead.\n",
    "    \"\"\"\n",
    "    for i in range(k):\n",
    "        nums.insert(0,nums[-1])\n",
    "        nums.pop(-1)\n",
    "        \n",
    "    print(nums)"
   ]
  },
  {
   "cell_type": "code",
   "execution_count": 41,
   "id": "6fff4cf1-b5fe-46bc-a96a-f42db73a7a08",
   "metadata": {},
   "outputs": [
    {
     "name": "stdout",
     "output_type": "stream",
     "text": [
      "[5, 6, 7, 1, 2, 3, 4]\n"
     ]
    }
   ],
   "source": [
    "rotate(0,nums = [1,2,3,4,5,6,7], k = 3)"
   ]
  },
  {
   "cell_type": "code",
   "execution_count": 43,
   "id": "8c9f0f86-6135-4174-a1e1-c63a16c57546",
   "metadata": {},
   "outputs": [
    {
     "name": "stdout",
     "output_type": "stream",
     "text": [
      "[7, 1, 2, 3, 4, 5, 6]\n"
     ]
    }
   ],
   "source": [
    "rotate(0,nums = [1,2,3,4,5,6,7], k = 1)"
   ]
  },
  {
   "cell_type": "markdown",
   "id": "6a3f741d-da34-4c0b-a401-4ca52de6acb9",
   "metadata": {},
   "source": [
    "1520 ms ### ЭТО НЕТ НА ГИТХАБЕ ЯЧЕЙКИ\n",
    "Beats 12.02%\n",
    "of users with Python3\n",
    "***cудя по результатам эту задачу нужно было решать по другому\n"
   ]
  },
  {
   "cell_type": "code",
   "execution_count": 104,
   "id": "2a240a27-8b52-467e-9a08-c9b744239ae2",
   "metadata": {},
   "outputs": [],
   "source": [
    "### НА ПРОВЕРКУ\n",
    "def rotate(self, nums, k):\n",
    "\n",
    "    \"\"\"\n",
    "    Do not return anything, modify nums in-place instead.\n",
    "    \"\"\"\n",
    "\n",
    "    nums[:]=nums[::-1] #разворачиваем\n",
    "    #так можно или это уже не инплейс? работает только так nums[:]= иначе не проходит сабмиты, nums остается в первоначальном виде\n",
    "    orig_len = len(nums)\n",
    "    for i in range(k):\n",
    "        nums.append(nums[i])\n",
    "    nums[:]=nums[::-1][:orig_len]#так можно или это уже не инплейс?     \n",
    "    #если нелья, то похоже, что глупо работать со списком. надо вычислить новые индексы для каждого элемента какой-то простой функцие, а потом их расставить\n",
    "    #нужен комментарий\n",
    "    "
   ]
  },
  {
   "cell_type": "code",
   "execution_count": 105,
   "id": "dcd1500d-97f1-4c38-9dd5-b548168bc88c",
   "metadata": {},
   "outputs": [
    {
     "name": "stdout",
     "output_type": "stream",
     "text": [
      "[5, 6, 7, 1, 2, 3, 4]\n"
     ]
    }
   ],
   "source": [
    "rotate(0,nums = [1,2,3,4,5,6,7], k = 3)"
   ]
  },
  {
   "cell_type": "code",
   "execution_count": 101,
   "id": "67b4c50d-56a2-451a-aa57-d2035eb371b3",
   "metadata": {},
   "outputs": [
    {
     "data": {
      "text/plain": [
       "[5, 6, 7, 1, 2, 3, 4]"
      ]
     },
     "execution_count": 101,
     "metadata": {},
     "output_type": "execute_result"
    }
   ],
   "source": [
    "[5, 6, 7, 1, 2, 3, 4]"
   ]
  },
  {
   "cell_type": "markdown",
   "id": "8c91fd02-e797-48c8-bc32-1809b2fc3035",
   "metadata": {},
   "source": [
    "140\n",
    "ms\n",
    "Beats\n",
    "99.27%\n",
    "of users with Python3\n",
    "***** победа!"
   ]
  },
  {
   "cell_type": "code",
   "execution_count": 106,
   "id": "d1b24b9b-14a7-41fc-8bc5-3d23df713bb0",
   "metadata": {},
   "outputs": [],
   "source": [
    "#ДЗ - переписать 14ю [\"flower\",\"flow\",\"flight\"] без использования строки и count"
   ]
  },
  {
   "cell_type": "code",
   "execution_count": 55,
   "id": "74dfca16-3dd0-4917-a36e-54507077049f",
   "metadata": {},
   "outputs": [],
   "source": [
    "### НА ПРОВЕРКУ - переписал\n",
    "def longestCommonPrefix(self, strs):\n",
    "    \n",
    "     #if len(strs)==1: #вот эти я не понял откуда условия, я их вставил по результатам сабмита\n",
    "     #    return strs[0]\n",
    "     if strs[0:1]*len(strs)==strs: #если все слова одинаковые, то тогда правильный ответ это слово целиком.\n",
    "         return strs[0] #вернул для ускорения, чтобы не гонять весь алго когда там слишком много одинаковых слов.\n",
    "    \n",
    "     strs = sorted(strs, key=lambda t: (len(t)))  #впереди минимальное по длине слово\n",
    "    \n",
    "     min_word = strs[0]\n",
    "     max_pref = ''\n",
    "     total_word_q = len(strs)\n",
    "    \n",
    "     for i in range(len(min_word)+1): #с этой +1 опять запнулся\n",
    "         pref_count=0         \n",
    "         current_pref = min_word[:i]         \n",
    "         for w in strs:            \n",
    "            if w.startswith(current_pref):\n",
    "                pref_count+=1\n",
    "         if pref_count==total_word_q:\n",
    "             max_pref=min_word[:i]\n",
    "         else:\n",
    "             break #дошли до слишком длинной приставки, которая уже не общая\n",
    "     return max_pref\n",
    "         \n"
   ]
  },
  {
   "cell_type": "markdown",
   "id": "700fec71-607d-434b-b039-0a0afa2bbed6",
   "metadata": {},
   "source": [
    "Write a function to find the longest common prefix string amongst an array of strings. If there is no common prefix, return an empty string \"\".\n",
    "\n",
    "Example 1:\n",
    "\n",
    "Input: strs = [\"flower\",\"flow\",\"flight\"] Output: \"fl\" Example 2:\n",
    "\n",
    "Input: strs = [\"dog\",\"racecar\",\"car\"] Output: \"\" Explanation: There is no common prefix among the input strings.\n"
   ]
  },
  {
   "cell_type": "code",
   "execution_count": 56,
   "id": "ca6c8f88-ffe4-4a34-a3e4-a9d9acf59a69",
   "metadata": {},
   "outputs": [
    {
     "name": "stdout",
     "output_type": "stream",
     "text": [
      "['flow', 'flower', 'flight']\n"
     ]
    },
    {
     "data": {
      "text/plain": [
       "'fl'"
      ]
     },
     "execution_count": 56,
     "metadata": {},
     "output_type": "execute_result"
    }
   ],
   "source": [
    "strs = [\"flower\",\"flow\",\"flight\"]\n",
    "longestCommonPrefix('',strs) #ковычки передаются вместо self, чтобы при сабмите не удалять self из функции\n"
   ]
  },
  {
   "cell_type": "code",
   "execution_count": 57,
   "id": "f6380b69-36ba-47a8-a4fe-8f28bded8346",
   "metadata": {},
   "outputs": [
    {
     "name": "stdout",
     "output_type": "stream",
     "text": [
      "['dog', 'car', 'racecar']\n"
     ]
    },
    {
     "data": {
      "text/plain": [
       "''"
      ]
     },
     "execution_count": 57,
     "metadata": {},
     "output_type": "execute_result"
    }
   ],
   "source": [
    "strs = [\"dog\",\"racecar\",\"car\"]\n",
    "longestCommonPrefix(1,strs)"
   ]
  },
  {
   "cell_type": "markdown",
   "id": "fdd6facc-5c86-4012-bc6b-b83536282ca5",
   "metadata": {},
   "source": [
    "39\n",
    "ms\n",
    "Beats\n",
    "57.28%\n",
    "of users with Python3"
   ]
  },
  {
   "cell_type": "code",
   "execution_count": null,
   "id": "29adf323-d724-479e-b97b-cab29c806403",
   "metadata": {},
   "outputs": [],
   "source": []
  }
 ],
 "metadata": {
  "kernelspec": {
   "display_name": "Python 3 (ipykernel)",
   "language": "python",
   "name": "python3"
  },
  "language_info": {
   "codemirror_mode": {
    "name": "ipython",
    "version": 3
   },
   "file_extension": ".py",
   "mimetype": "text/x-python",
   "name": "python",
   "nbconvert_exporter": "python",
   "pygments_lexer": "ipython3",
   "version": "3.11.5"
  }
 },
 "nbformat": 4,
 "nbformat_minor": 5
}
